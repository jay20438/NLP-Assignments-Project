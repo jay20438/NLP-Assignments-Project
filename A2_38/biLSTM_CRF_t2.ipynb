{
  "nbformat": 4,
  "nbformat_minor": 0,
  "metadata": {
    "colab": {
      "provenance": []
    },
    "kernelspec": {
      "name": "python3",
      "display_name": "Python 3"
    },
    "language_info": {
      "name": "python"
    }
  },
  "cells": [
    {
      "cell_type": "code",
      "execution_count": 2,
      "metadata": {
        "id": "q3Tn4rh1mIWo",
        "colab": {
          "base_uri": "https://localhost:8080/"
        },
        "outputId": "cc55cd4e-26c5-467d-8cbc-88f14bc3dc70"
      },
      "outputs": [
        {
          "output_type": "execute_result",
          "data": {
            "text/plain": [
              "<torch._C.Generator at 0x7d80f6e4da30>"
            ]
          },
          "metadata": {},
          "execution_count": 2
        }
      ],
      "source": [
        "import torch\n",
        "import torch.nn as nn\n",
        "import torch.nn.functional as F\n",
        "import torch.optim as optim\n",
        "import json\n",
        "torch.manual_seed(1)"
      ]
    },
    {
      "cell_type": "code",
      "source": [
        "from google.colab import drive\n",
        "drive.mount('/content/drive')"
      ],
      "metadata": {
        "colab": {
          "base_uri": "https://localhost:8080/"
        },
        "id": "Rt7YLlS2XRDO",
        "outputId": "596f5bf6-4f87-45e7-c730-ce377e9aade5"
      },
      "execution_count": 3,
      "outputs": [
        {
          "output_type": "stream",
          "name": "stdout",
          "text": [
            "Drive already mounted at /content/drive; to attempt to forcibly remount, call drive.mount(\"/content/drive\", force_remount=True).\n"
          ]
        }
      ]
    },
    {
      "cell_type": "markdown",
      "source": [
        "#buildig vocab"
      ],
      "metadata": {
        "id": "5OOiS3xqVZ1V"
      }
    },
    {
      "cell_type": "code",
      "source": [
        "with open(\"/content/drive/MyDrive/NLP_ass2/train_processed_t2.json\", 'r') as f:\n",
        "        data = json.load(f)\n",
        "\n",
        "\n",
        "type(data)"
      ],
      "metadata": {
        "colab": {
          "base_uri": "https://localhost:8080/"
        },
        "id": "MOAqT25mVcL8",
        "outputId": "36249f29-9db0-4654-dd4d-7a9584b206e7"
      },
      "execution_count": 4,
      "outputs": [
        {
          "output_type": "execute_result",
          "data": {
            "text/plain": [
              "dict"
            ]
          },
          "metadata": {},
          "execution_count": 4
        }
      ]
    },
    {
      "cell_type": "code",
      "source": [
        "with open(\"/content/drive/MyDrive/NLP_ass2/validation_processed_t2.json\", 'r') as f:\n",
        "        valid_data = json.load(f)\n",
        "\n",
        "\n",
        "type(data)"
      ],
      "metadata": {
        "colab": {
          "base_uri": "https://localhost:8080/"
        },
        "id": "2sTSBt9mVh23",
        "outputId": "5c1fe6fa-fb76-4a5b-ad15-7cb08c6b9280"
      },
      "execution_count": 5,
      "outputs": [
        {
          "output_type": "execute_result",
          "data": {
            "text/plain": [
              "dict"
            ]
          },
          "metadata": {},
          "execution_count": 5
        }
      ]
    },
    {
      "cell_type": "code",
      "source": [
        "with open(\"/content/drive/MyDrive/NLP_ass2/test_processed_t2.json\", 'r') as f:\n",
        "        test_data = json.load(f)\n",
        "\n",
        "\n",
        "type(data)"
      ],
      "metadata": {
        "colab": {
          "base_uri": "https://localhost:8080/"
        },
        "id": "8itvZGIIVcIU",
        "outputId": "8a02fa8a-e0ce-4a0c-879e-0d526645cd60"
      },
      "execution_count": 6,
      "outputs": [
        {
          "output_type": "execute_result",
          "data": {
            "text/plain": [
              "dict"
            ]
          },
          "metadata": {},
          "execution_count": 6
        }
      ]
    },
    {
      "cell_type": "code",
      "source": [
        "vocab=[]\n",
        "\n",
        "for i in data:\n",
        "  for word in data[str(i)]['text'].split():\n",
        "    if word not in vocab:\n",
        "      vocab.append(word)\n",
        "\n",
        "for i in test_data:\n",
        "  for word in test_data[str(i)]['text'].split():\n",
        "    if word not in vocab:\n",
        "      vocab.append(word)\n",
        "\n",
        "\n",
        "for i in valid_data:\n",
        "  for word in valid_data[str(i)]['text'].split():\n",
        "    if word not in vocab:\n",
        "      vocab.append(word)\n"
      ],
      "metadata": {
        "id": "89blz8X_VsxX"
      },
      "execution_count": 7,
      "outputs": []
    },
    {
      "cell_type": "code",
      "source": [
        "vocab_len=len(vocab)"
      ],
      "metadata": {
        "id": "DPiUAvwarT5d"
      },
      "execution_count": 8,
      "outputs": []
    },
    {
      "cell_type": "markdown",
      "source": [
        "#model with embedding\n"
      ],
      "metadata": {
        "id": "MnVd81_ptp5R"
      }
    },
    {
      "cell_type": "code",
      "source": [
        "def argmax(vec):\n",
        "    # return the argmax as a python int\n",
        "    _, idx = torch.max(vec, 1)\n",
        "    return idx.item()\n",
        "\n",
        "\n",
        "def prepare_sequence(seq, to_ix):\n",
        "    idxs = [to_ix[w] for w in seq]\n",
        "    return torch.tensor(idxs, dtype=torch.long)\n",
        "\n",
        "\n",
        "# Compute log sum exp in a numerically stable way for the forward algorithm\n",
        "def log_sum_exp(vec):\n",
        "    max_score = vec[0, argmax(vec)]\n",
        "    max_score_broadcast = max_score.view(1, -1).expand(1, vec.size()[1])\n",
        "    return max_score + \\\n",
        "        torch.log(torch.sum(torch.exp(vec - max_score_broadcast)))"
      ],
      "metadata": {
        "id": "X6owE3futvpa"
      },
      "execution_count": 9,
      "outputs": []
    },
    {
      "cell_type": "code",
      "source": [
        "class BiLSTM_CRF(nn.Module):\n",
        "\n",
        "    def __init__(self, vocab_size, tag_to_ix, embedding_dim, hidden_dim,embedding=None):\n",
        "        super(BiLSTM_CRF, self).__init__()\n",
        "        self.embedding_dim = embedding_dim\n",
        "        self.hidden_dim = hidden_dim\n",
        "        self.vocab_size = vocab_size\n",
        "        self.tag_to_ix = tag_to_ix\n",
        "        self.tagset_size = len(tag_to_ix)\n",
        "\n",
        "\n",
        "        if embedding is None:\n",
        "            self.word_embeds = nn.Embedding(vocab_size, embedding_dim)\n",
        "        else:\n",
        "            self.word_embeds = nn.Embedding.from_pretrained(embedding)\n",
        "        # self.word_embeds = nn.Embedding(vocab_size, embedding_dim)\n",
        "        self.lstm = nn.LSTM(embedding_dim, hidden_dim // 2,\n",
        "                            num_layers=1, bidirectional=True)\n",
        "\n",
        "        # Maps the output of the LSTM into tag space.\n",
        "        self.hidden2tag = nn.Linear(hidden_dim, self.tagset_size)\n",
        "\n",
        "        # Matrix of transition parameters.  Entry i,j is the score of\n",
        "        # transitioning *to* i *from* j.\n",
        "        self.transitions = nn.Parameter(\n",
        "            torch.randn(self.tagset_size, self.tagset_size))\n",
        "\n",
        "        # These two statements enforce the constraint that we never transfer\n",
        "        # to the start tag and we never transfer from the stop tag\n",
        "        self.transitions.data[tag_to_ix[START_TAG], :] = -10000\n",
        "        self.transitions.data[:, tag_to_ix[STOP_TAG]] = -10000\n",
        "\n",
        "        self.hidden = self.init_hidden()\n",
        "\n",
        "    def init_hidden(self):\n",
        "        return (torch.randn(2, 1, self.hidden_dim // 2),\n",
        "                torch.randn(2, 1, self.hidden_dim // 2))\n",
        "\n",
        "    def _forward_alg(self, feats):\n",
        "        # Do the forward algorithm to compute the partition function\n",
        "        init_alphas = torch.full((1, self.tagset_size), -10000.)\n",
        "        # START_TAG has all of the score.\n",
        "        init_alphas[0][self.tag_to_ix[START_TAG]] = 0.\n",
        "\n",
        "        # Wrap in a variable so that we will get automatic backprop\n",
        "        forward_var = init_alphas\n",
        "\n",
        "        # Iterate through the sentence\n",
        "        for feat in feats:\n",
        "            alphas_t = []  # The forward tensors at this timestep\n",
        "            for next_tag in range(self.tagset_size):\n",
        "                # broadcast the emission score: it is the same regardless of\n",
        "                # the previous tag\n",
        "                emit_score = feat[next_tag].view(\n",
        "                    1, -1).expand(1, self.tagset_size)\n",
        "                # the ith entry of trans_score is the score of transitioning to\n",
        "                # next_tag from i\n",
        "                trans_score = self.transitions[next_tag].view(1, -1)\n",
        "                # The ith entry of next_tag_var is the value for the\n",
        "                # edge (i -> next_tag) before we do log-sum-exp\n",
        "                next_tag_var = forward_var + trans_score + emit_score\n",
        "                # The forward variable for this tag is log-sum-exp of all the\n",
        "                # scores.\n",
        "                alphas_t.append(log_sum_exp(next_tag_var).view(1))\n",
        "            forward_var = torch.cat(alphas_t).view(1, -1)\n",
        "        terminal_var = forward_var + self.transitions[self.tag_to_ix[STOP_TAG]]\n",
        "        alpha = log_sum_exp(terminal_var)\n",
        "        return alpha\n",
        "\n",
        "    def _get_lstm_features(self, sentence):\n",
        "        self.hidden = self.init_hidden()\n",
        "        embeds = self.word_embeds(sentence).view(len(sentence), 1, -1)\n",
        "        lstm_out, self.hidden = self.lstm(embeds, self.hidden)\n",
        "        lstm_out = lstm_out.view(len(sentence), self.hidden_dim)\n",
        "        lstm_feats = self.hidden2tag(lstm_out)\n",
        "        return lstm_feats\n",
        "\n",
        "    def _score_sentence(self, feats, tags):\n",
        "        # Gives the score of a provided tag sequence\n",
        "        score = torch.zeros(1)\n",
        "        tags = torch.cat([torch.tensor([self.tag_to_ix[START_TAG]], dtype=torch.long), tags])\n",
        "        for i, feat in enumerate(feats):\n",
        "            score = score + \\\n",
        "                self.transitions[tags[i + 1], tags[i]] + feat[tags[i + 1]]\n",
        "        score = score + self.transitions[self.tag_to_ix[STOP_TAG], tags[-1]]\n",
        "        return score\n",
        "\n",
        "    def _viterbi_decode(self, feats):\n",
        "        backpointers = []\n",
        "\n",
        "        # Initialize the viterbi variables in log space\n",
        "        init_vvars = torch.full((1, self.tagset_size), -10000.)\n",
        "        init_vvars[0][self.tag_to_ix[START_TAG]] = 0\n",
        "\n",
        "        # forward_var at step i holds the viterbi variables for step i-1\n",
        "        forward_var = init_vvars\n",
        "        for feat in feats:\n",
        "            bptrs_t = []  # holds the backpointers for this step\n",
        "            viterbivars_t = []  # holds the viterbi variables for this step\n",
        "\n",
        "            for next_tag in range(self.tagset_size):\n",
        "                # next_tag_var[i] holds the viterbi variable for tag i at the\n",
        "                # previous step, plus the score of transitioning\n",
        "                # from tag i to next_tag.\n",
        "                # We don't include the emission scores here because the max\n",
        "                # does not depend on them (we add them in below)\n",
        "                next_tag_var = forward_var + self.transitions[next_tag]\n",
        "                best_tag_id = argmax(next_tag_var)\n",
        "                bptrs_t.append(best_tag_id)\n",
        "                viterbivars_t.append(next_tag_var[0][best_tag_id].view(1))\n",
        "            # Now add in the emission scores, and assign forward_var to the set\n",
        "            # of viterbi variables we just computed\n",
        "            forward_var = (torch.cat(viterbivars_t) + feat).view(1, -1)\n",
        "            backpointers.append(bptrs_t)\n",
        "\n",
        "        # Transition to STOP_TAG\n",
        "        terminal_var = forward_var + self.transitions[self.tag_to_ix[STOP_TAG]]\n",
        "        best_tag_id = argmax(terminal_var)\n",
        "        path_score = terminal_var[0][best_tag_id]\n",
        "\n",
        "        # Follow the back pointers to decode the best path.\n",
        "        best_path = [best_tag_id]\n",
        "        for bptrs_t in reversed(backpointers):\n",
        "            best_tag_id = bptrs_t[best_tag_id]\n",
        "            best_path.append(best_tag_id)\n",
        "        # Pop off the start tag (we dont want to return that to the caller)\n",
        "        start = best_path.pop()\n",
        "        assert start == self.tag_to_ix[START_TAG]  # Sanity check\n",
        "        best_path.reverse()\n",
        "        return path_score, best_path\n",
        "\n",
        "    def neg_log_likelihood(self, sentence, tags):\n",
        "        feats = self._get_lstm_features(sentence)\n",
        "        forward_score = self._forward_alg(feats)\n",
        "        gold_score = self._score_sentence(feats, tags)\n",
        "        return forward_score - gold_score\n",
        "\n",
        "    def forward(self, sentence):  # dont confuse this with _forward_alg above.\n",
        "        # Get the emission scores from the BiLSTM\n",
        "        lstm_feats = self._get_lstm_features(sentence)\n",
        "\n",
        "        # Find the best path, given the features.\n",
        "        score, tag_seq = self._viterbi_decode(lstm_feats)\n",
        "        return score, tag_seq"
      ],
      "metadata": {
        "id": "iCo8u8axsz4q"
      },
      "execution_count": 10,
      "outputs": []
    },
    {
      "cell_type": "code",
      "source": [
        "START_TAG = \"<START>\"\n",
        "STOP_TAG = \"<STOP>\"\n",
        "EMBEDDING_DIM = 5\n",
        "HIDDEN_DIM = 4\n",
        "\n",
        "\n",
        "tag_to_ix = {\"B\": 0, \"I\": 1, \"O\": 2, START_TAG: 3, STOP_TAG: 4}\n",
        "\n",
        "word_to_ix = {}\n",
        "\n",
        "for i in data:\n",
        "  for word in data[str(i)]['text'].split():\n",
        "    if word not in word_to_ix:\n",
        "      word_to_ix[word] = len(word_to_ix)\n",
        "\n",
        "for i in test_data:\n",
        "  for word in test_data[str(i)]['text'].split():\n",
        "    if word not in word_to_ix:\n",
        "      word_to_ix[word] = len(word_to_ix)\n",
        "\n",
        "for i in valid_data:\n",
        "  for word in valid_data[str(i)]['text'].split():\n",
        "    if word not in word_to_ix:\n",
        "      word_to_ix[word] = len(word_to_ix)\n",
        "\n",
        "tag_to_ix = {\"B\": 0, \"I\": 1, \"O\": 2, START_TAG: 3, STOP_TAG: 4}\n",
        "\n",
        "\n"
      ],
      "metadata": {
        "id": "96c-s4bMtZMZ"
      },
      "execution_count": 11,
      "outputs": []
    },
    {
      "cell_type": "code",
      "source": [
        "# traning_size=training_data.\n",
        "\n",
        "\n",
        "def train_model(model,optimizer,traning_data,validation_data,epoch):\n",
        "\n",
        "  f1score_traning=[]\n",
        "  f1score_val=[]\n",
        "  losses=[]\n",
        "  losses_val=[]\n",
        "  div=int(len(traning_data)/5)\n",
        "  arr=[div,div*2,div*3,div*4,div]\n",
        "  for epoch in range(epoch):\n",
        "    print(\"done epoch\",epoch)\n",
        "    last=1\n",
        "    lossz=0\n",
        "    for batch in arr:\n",
        "\n",
        "\n",
        "      for i in range(last,batch):\n",
        "        last=batch\n",
        "        ith_data=traning_data[str(i)]\n",
        "\n",
        "        model.zero_grad()\n",
        "\n",
        "        # print(ith_data['text'])\n",
        "        sent_in=torch.tensor([word_to_ix[t] for t in ith_data['text'].split()], dtype=torch.long)\n",
        "\n",
        "\n",
        "        # print(sent_in)\n",
        "        targets = torch.tensor([tag_to_ix[t] for t in ith_data['labels']], dtype=torch.long)\n",
        "        # print(targets)\n",
        "          # Step 3. Run our forward pass.\n",
        "        loss = model.neg_log_likelihood(sent_in, targets)\n",
        "        lossz+=loss.item()\n",
        "          # Step 4. Compute the loss, gradients, and update the parameters by\n",
        "          # calling optimizer.step()\n",
        "        loss.backward()\n",
        "        optimizer.step()\n",
        "    losses.append(lossz)\n",
        "    f1score_traning.append(test_model(model,traning_data))\n",
        "    av=0\n",
        "    for i in validation_data:\n",
        "        ith_data=validation_data[str(i)]\n",
        "\n",
        "        model.zero_grad()\n",
        "\n",
        "        # print(ith_data['text'])\n",
        "        sent_in=torch.tensor([word_to_ix[t] for t in ith_data['text'].split()], dtype=torch.long)\n",
        "\n",
        "\n",
        "        # print(sent_in)\n",
        "        targets = torch.tensor([tag_to_ix[t] for t in ith_data['labels']], dtype=torch.long)\n",
        "        # print(targets)\n",
        "          # Step 3. Run our forward pass.\n",
        "        loss = model.neg_log_likelihood(sent_in, targets)\n",
        "        av+=loss.item()\n",
        "    losses_val.append(av)\n",
        "    f1score_val.append(test_model(model,validation_data))\n",
        "  return model,losses,losses_val,f1score_traning,f1score_val\n",
        "\n",
        "\n",
        "\n",
        "\n",
        "\n",
        "\n"
      ],
      "metadata": {
        "id": "LBNap7iDsz19"
      },
      "execution_count": 12,
      "outputs": []
    },
    {
      "cell_type": "code",
      "source": [
        "import numpy as np\n",
        "from sklearn.metrics import f1_score\n",
        "\n",
        "def test_model(model,testing_data):\n",
        "\n",
        "  predicted=[]\n",
        "  orginal=[]\n",
        "\n",
        "  with torch.no_grad():\n",
        "    for i in testing_data:\n",
        "\n",
        "        sent_in=torch.tensor([word_to_ix[t] for t in testing_data[str(i)]['text'].split()], dtype=torch.long)\n",
        "        targets = [tag_to_ix[t] for t in testing_data[str(i)]['labels']]\n",
        "        orginal=orginal+targets\n",
        "\n",
        "        predicted_targer=model(sent_in)\n",
        "        predicted = predicted +predicted_targer[1]\n",
        "\n",
        "  score=f1_score(orginal, predicted, average='macro')\n",
        "  return score"
      ],
      "metadata": {
        "id": "OEfhtOUFszxy"
      },
      "execution_count": 13,
      "outputs": []
    },
    {
      "cell_type": "markdown",
      "source": [
        "##graphing code"
      ],
      "metadata": {
        "id": "SF46vwaFz72a"
      }
    },
    {
      "cell_type": "code",
      "source": [
        "import matplotlib.pyplot as plt\n",
        "\n",
        "def plotloss(losses,labelt):\n",
        "  epochs = range(1, len(losses) + 1)\n",
        "\n",
        "  plt.plot(epochs, losses, marker='o', color='b', linestyle='-')\n",
        "\n",
        "\n",
        "  plt.xlabel('Epoch Number')\n",
        "  plt.ylabel(labelt)\n",
        "  plt.title(f'{labelt} vs. Epoch Number')\n",
        "\n",
        "\n",
        "  plt.grid(True)\n",
        "  plt.tight_layout()\n",
        "  plt.show()\n",
        "\n",
        "\n"
      ],
      "metadata": {
        "id": "jXLdE66Yz7Xi"
      },
      "execution_count": 30,
      "outputs": []
    },
    {
      "cell_type": "markdown",
      "source": [
        "#word to vec encoding\n"
      ],
      "metadata": {
        "id": "q8EW7__YZfug"
      }
    },
    {
      "cell_type": "code",
      "source": [
        "import io"
      ],
      "metadata": {
        "id": "Joq_5LNCazCv"
      },
      "execution_count": 15,
      "outputs": []
    },
    {
      "cell_type": "code",
      "source": [
        "from gensim.models import KeyedVectors# Load pre-trained model\n",
        "word2vec_model = KeyedVectors.load_word2vec_format(   '/content/drive/MyDrive/NLP_ass2/GoogleNews-vectors-negative300.bin', binary=True)"
      ],
      "metadata": {
        "id": "A-GkHXuSaFoK"
      },
      "execution_count": 16,
      "outputs": []
    },
    {
      "cell_type": "code",
      "source": [
        "import numpy as np\n",
        "wor2vec_dim=len(word2vec_model['hello'])\n",
        "word2vec_embedd=np.zeros((vocab_len, wor2vec_dim), dtype=np.float32)\n",
        "\n",
        "t=0\n",
        "for ind, word in enumerate(vocab):\n",
        "  try:\n",
        "\n",
        "    word2vec_embedd[ind,:]=word2vec_model[word]\n",
        "    t=t+1\n",
        "  except:\n",
        "    continue\n",
        "\n",
        "print(t)\n",
        "print(vocab_len)\n",
        "word2vec_embedd = torch.from_numpy(word2vec_embedd)"
      ],
      "metadata": {
        "id": "tIytOgWbZeyF",
        "colab": {
          "base_uri": "https://localhost:8080/"
        },
        "outputId": "c17a8569-75b8-46dc-fed3-5077976a78c6"
      },
      "execution_count": 17,
      "outputs": [
        {
          "output_type": "stream",
          "name": "stdout",
          "text": [
            "3241\n",
            "3495\n"
          ]
        }
      ]
    },
    {
      "cell_type": "code",
      "source": [
        "model = BiLSTM_CRF(len(word_to_ix), tag_to_ix, wor2vec_dim, 256,word2vec_embedd)\n",
        "\n",
        "optimizer = optim.SGD(model.parameters(), lr=0.01, weight_decay=1e-4)\n",
        "\n",
        "\n",
        "\n",
        "\n",
        "# model,losses,losses_val,f1score_traning,f1score_val\n",
        "word2vec_traned_model,losses_word2,losses_val,f1score_traning,f1score_val=train_model(model,optimizer,data,valid_data,100)"
      ],
      "metadata": {
        "colab": {
          "base_uri": "https://localhost:8080/"
        },
        "id": "4hI-xvh7waPr",
        "outputId": "836a692a-629c-4dab-fd2a-c21666141b8f"
      },
      "execution_count": 18,
      "outputs": [
        {
          "output_type": "stream",
          "name": "stdout",
          "text": [
            "done epoch 0\n",
            "done epoch 1\n",
            "done epoch 2\n",
            "done epoch 3\n",
            "done epoch 4\n",
            "done epoch 5\n",
            "done epoch 6\n",
            "done epoch 7\n",
            "done epoch 8\n",
            "done epoch 9\n",
            "done epoch 10\n",
            "done epoch 11\n",
            "done epoch 12\n",
            "done epoch 13\n",
            "done epoch 14\n",
            "done epoch 15\n",
            "done epoch 16\n",
            "done epoch 17\n",
            "done epoch 18\n",
            "done epoch 19\n",
            "done epoch 20\n",
            "done epoch 21\n",
            "done epoch 22\n",
            "done epoch 23\n",
            "done epoch 24\n",
            "done epoch 25\n",
            "done epoch 26\n",
            "done epoch 27\n",
            "done epoch 28\n",
            "done epoch 29\n",
            "done epoch 30\n",
            "done epoch 31\n",
            "done epoch 32\n",
            "done epoch 33\n",
            "done epoch 34\n",
            "done epoch 35\n",
            "done epoch 36\n",
            "done epoch 37\n",
            "done epoch 38\n",
            "done epoch 39\n",
            "done epoch 40\n",
            "done epoch 41\n",
            "done epoch 42\n",
            "done epoch 43\n",
            "done epoch 44\n",
            "done epoch 45\n",
            "done epoch 46\n",
            "done epoch 47\n",
            "done epoch 48\n",
            "done epoch 49\n",
            "done epoch 50\n",
            "done epoch 51\n",
            "done epoch 52\n",
            "done epoch 53\n",
            "done epoch 54\n",
            "done epoch 55\n",
            "done epoch 56\n",
            "done epoch 57\n",
            "done epoch 58\n",
            "done epoch 59\n",
            "done epoch 60\n",
            "done epoch 61\n",
            "done epoch 62\n",
            "done epoch 63\n",
            "done epoch 64\n",
            "done epoch 65\n",
            "done epoch 66\n",
            "done epoch 67\n",
            "done epoch 68\n",
            "done epoch 69\n",
            "done epoch 70\n",
            "done epoch 71\n",
            "done epoch 72\n",
            "done epoch 73\n",
            "done epoch 74\n",
            "done epoch 75\n",
            "done epoch 76\n",
            "done epoch 77\n",
            "done epoch 78\n",
            "done epoch 79\n",
            "done epoch 80\n",
            "done epoch 81\n",
            "done epoch 82\n",
            "done epoch 83\n",
            "done epoch 84\n",
            "done epoch 85\n",
            "done epoch 86\n",
            "done epoch 87\n",
            "done epoch 88\n",
            "done epoch 89\n",
            "done epoch 90\n",
            "done epoch 91\n",
            "done epoch 92\n",
            "done epoch 93\n",
            "done epoch 94\n",
            "done epoch 95\n",
            "done epoch 96\n",
            "done epoch 97\n",
            "done epoch 98\n",
            "done epoch 99\n"
          ]
        }
      ]
    },
    {
      "cell_type": "markdown",
      "source": [
        "**traning graph**"
      ],
      "metadata": {
        "id": "b7sXbArOz3zp"
      }
    },
    {
      "cell_type": "code",
      "source": [
        "losses_word2\n",
        "losses_word2"
      ],
      "metadata": {
        "colab": {
          "base_uri": "https://localhost:8080/"
        },
        "id": "L6sQckkiHBuZ",
        "outputId": "7a6ca088-9f1d-4ffb-bba7-74fb381ee82c"
      },
      "execution_count": 19,
      "outputs": [
        {
          "output_type": "execute_result",
          "data": {
            "text/plain": [
              "[4244.549270629883,\n",
              " 2564.0038747787476,\n",
              " 2175.7342472076416,\n",
              " 1975.7503275871277,\n",
              " 1839.0414009094238,\n",
              " 1681.8049626350403,\n",
              " 1606.2943859100342,\n",
              " 1537.1297097206116,\n",
              " 1466.0708923339844,\n",
              " 1387.9398441314697,\n",
              " 1317.9882507324219,\n",
              " 1259.2746176719666,\n",
              " 1225.8403959274292,\n",
              " 1167.4142541885376,\n",
              " 1130.1838359832764,\n",
              " 1075.6678323745728,\n",
              " 1027.4332942962646,\n",
              " 977.6518564224243,\n",
              " 963.523359298706,\n",
              " 874.6064171791077,\n",
              " 840.7964220046997,\n",
              " 811.7811365127563,\n",
              " 774.1442623138428,\n",
              " 759.9141311645508,\n",
              " 702.319317817688,\n",
              " 674.8724031448364,\n",
              " 655.944486618042,\n",
              " 621.931962966919,\n",
              " 560.091046333313,\n",
              " 498.5406885147095,\n",
              " 489.523473739624,\n",
              " 500.3807706832886,\n",
              " 439.0118522644043,\n",
              " 431.4206380844116,\n",
              " 399.49693870544434,\n",
              " 358.4071264266968,\n",
              " 297.13961696624756,\n",
              " 295.2793264389038,\n",
              " 337.2614994049072,\n",
              " 283.2505397796631,\n",
              " 226.17191314697266,\n",
              " 225.1010799407959,\n",
              " 216.57917976379395,\n",
              " 204.9555778503418,\n",
              " 191.68567848205566,\n",
              " 201.26166915893555,\n",
              " 142.55046272277832,\n",
              " 126.91988754272461,\n",
              " 154.4319725036621,\n",
              " 108.71279907226562,\n",
              " 95.93964004516602,\n",
              " 154.2524585723877,\n",
              " 86.48666000366211,\n",
              " 79.13115406036377,\n",
              " 99.47539138793945,\n",
              " 83.47618865966797,\n",
              " 96.58867645263672,\n",
              " 86.68498611450195,\n",
              " 71.0227518081665,\n",
              " 77.10066223144531,\n",
              " 97.02447891235352,\n",
              " 75.22146415710449,\n",
              " 60.790096282958984,\n",
              " 83.41644096374512,\n",
              " 87.54742050170898,\n",
              " 73.91284370422363,\n",
              " 53.05916213989258,\n",
              " 33.605628967285156,\n",
              " 37.5024471282959,\n",
              " 37.06546497344971,\n",
              " 30.324607849121094,\n",
              " 36.92289924621582,\n",
              " 41.161739349365234,\n",
              " 40.473859786987305,\n",
              " 49.16853904724121,\n",
              " 26.081035614013672,\n",
              " 39.82210922241211,\n",
              " 54.68583297729492,\n",
              " 25.793306350708008,\n",
              " 28.818260192871094,\n",
              " 48.34779357910156,\n",
              " 29.44473648071289,\n",
              " 30.675731658935547,\n",
              " 20.909164428710938,\n",
              " 19.835947036743164,\n",
              " 16.9808349609375,\n",
              " 26.17627716064453,\n",
              " 15.610864639282227,\n",
              " 70.93360900878906,\n",
              " 51.241119384765625,\n",
              " 60.012691497802734,\n",
              " 19.685550689697266,\n",
              " 59.259714126586914,\n",
              " 25.800090789794922,\n",
              " 24.018768310546875,\n",
              " 18.599231719970703,\n",
              " 23.572927474975586,\n",
              " 53.021018981933594,\n",
              " 32.12807846069336,\n",
              " 32.45745277404785]"
            ]
          },
          "metadata": {},
          "execution_count": 19
        }
      ]
    },
    {
      "cell_type": "code",
      "source": [
        "plotloss(losses_word2,\"traning loss\")"
      ],
      "metadata": {
        "id": "lbZydpKbz6L7",
        "colab": {
          "base_uri": "https://localhost:8080/",
          "height": 487
        },
        "outputId": "71672abc-a778-427b-e3cf-e48395086772"
      },
      "execution_count": 31,
      "outputs": [
        {
          "output_type": "display_data",
          "data": {
            "text/plain": [
              "<Figure size 640x480 with 1 Axes>"
            ],
            "image/png": "[encoded data removed]"
          },
          "metadata": {}
        }
      ]
    },
    {
      "cell_type": "markdown",
      "source": [
        "**traning score**"
      ],
      "metadata": {
        "id": "NkXzDTtXzyfr"
      }
    },
    {
      "cell_type": "code",
      "source": [
        "score=test_model(word2vec_traned_model,data)\n",
        "print(\"F1-score for traning data \",score)"
      ],
      "metadata": {
        "id": "PRZuK-LozxKD",
        "colab": {
          "base_uri": "https://localhost:8080/"
        },
        "outputId": "b76e52b4-4975-4219-b5d5-35feac43936f"
      },
      "execution_count": 21,
      "outputs": [
        {
          "output_type": "stream",
          "name": "stdout",
          "text": [
            "F1-score for traning data  0.9462809252906617\n"
          ]
        }
      ]
    },
    {
      "cell_type": "code",
      "source": [
        "plotloss(f1score_traning,\"f1-traning\")"
      ],
      "metadata": {
        "id": "FUzkjm0SeGJA",
        "colab": {
          "base_uri": "https://localhost:8080/",
          "height": 487
        },
        "outputId": "9c7adfa1-ac7c-4acc-c162-ed1ee4ee2803"
      },
      "execution_count": 32,
      "outputs": [
        {
          "output_type": "display_data",
          "data": {
            "text/plain": [
              "<Figure size 640x480 with 1 Axes>"
            ],
            "image/png": "[encoded data removed]"
          },
          "metadata": {}
        }
      ]
    },
    {
      "cell_type": "markdown",
      "source": [
        "**validation**"
      ],
      "metadata": {
        "id": "U0w6UQsK0_ld"
      }
    },
    {
      "cell_type": "code",
      "source": [
        "plotloss(f1score_val,\"validation f1\")"
      ],
      "metadata": {
        "id": "k_bNMBY3eEDL",
        "colab": {
          "base_uri": "https://localhost:8080/",
          "height": 487
        },
        "outputId": "406cc580-d6b1-4947-dbbe-ba29132dfe3f"
      },
      "execution_count": 34,
      "outputs": [
        {
          "output_type": "display_data",
          "data": {
            "text/plain": [
              "<Figure size 640x480 with 1 Axes>"
            ],
            "image/png": "[encoded data removed]"
          },
          "metadata": {}
        }
      ]
    },
    {
      "cell_type": "markdown",
      "source": [
        "**validation graph**"
      ],
      "metadata": {
        "id": "kRIr4YCK1iHu"
      }
    },
    {
      "cell_type": "code",
      "source": [
        "plotloss(losses_val,\"validation loss\")"
      ],
      "metadata": {
        "id": "MOKg1-eg1qAe",
        "colab": {
          "base_uri": "https://localhost:8080/",
          "height": 487
        },
        "outputId": "441d3c2c-4364-4972-c0b2-5ff5c624ddec"
      },
      "execution_count": 35,
      "outputs": [
        {
          "output_type": "display_data",
          "data": {
            "text/plain": [
              "<Figure size 640x480 with 1 Axes>"
            ],
            "image/png": "[encoded data removed]"
          },
          "metadata": {}
        }
      ]
    },
    {
      "cell_type": "markdown",
      "source": [
        "**valid score**"
      ],
      "metadata": {
        "id": "0ryYwfF91oXr"
      }
    },
    {
      "cell_type": "code",
      "source": [
        "score=test_model(word2vec_traned_model,valid_data)\n",
        "print(\"F1-score for traning data \",score)"
      ],
      "metadata": {
        "id": "eWDU6Rsm1oN5",
        "colab": {
          "base_uri": "https://localhost:8080/"
        },
        "outputId": "68b238bc-2390-4c18-e160-c4c60c9815d4"
      },
      "execution_count": 25,
      "outputs": [
        {
          "output_type": "stream",
          "name": "stdout",
          "text": [
            "F1-score for traning data  0.792982694057279\n"
          ]
        }
      ]
    },
    {
      "cell_type": "markdown",
      "source": [
        "**saving model**"
      ],
      "metadata": {
        "id": "Fm0W2Kup3o3W"
      }
    },
    {
      "cell_type": "code",
      "source": [
        "word2vecpath='/content/drive/MyDrive/NLP_ass2/word2vec.pth'\n",
        "torch.save(word2vec_traned_model.state_dict(), word2vecpath)"
      ],
      "metadata": {
        "id": "Yb898sNA3sAX"
      },
      "execution_count": 26,
      "outputs": []
    },
    {
      "cell_type": "markdown",
      "source": [
        "**testing score**"
      ],
      "metadata": {
        "id": "z-w-xLmS1-A1"
      }
    },
    {
      "cell_type": "code",
      "source": [
        "word2vecmidel = torch.load(word2vecpath)\n",
        "\n",
        "last_model = BiLSTM_CRF(len(word_to_ix), tag_to_ix, wor2vec_dim, 256,word2vec_embedd)\n",
        "last_model.load_state_dict(word2vecmidel)\n",
        "\n",
        "score=test_model(last_model,test_data)\n",
        "print(\"F1-score for traning data \",score)"
      ],
      "metadata": {
        "id": "_5qY9eis18cQ",
        "colab": {
          "base_uri": "https://localhost:8080/"
        },
        "outputId": "57f80be0-0e35-4d07-e9e0-e871c36750d8"
      },
      "execution_count": 27,
      "outputs": [
        {
          "output_type": "stream",
          "name": "stdout",
          "text": [
            "F1-score for traning data  0.789073814564027\n"
          ]
        }
      ]
    },
    {
      "cell_type": "markdown",
      "source": [
        "#fasttext embedding\n"
      ],
      "metadata": {
        "id": "tMzmsuz2RmOB"
      }
    },
    {
      "cell_type": "code",
      "source": [
        "fast_embed=\"/content/drive/MyDrive/NLP_ass2/crawl-300d-2M-subword.vec\""
      ],
      "metadata": {
        "id": "8rkM86AdbKD3"
      },
      "execution_count": null,
      "outputs": []
    },
    {
      "cell_type": "code",
      "source": [
        "# reference https://github.com/nlptown/nlp-notebooks/blob/master/Sequence%20Labelling%20with%20a%20BiLSTM%20in%20PyTorch.ipynb\n",
        "fast_vectors={}\n",
        "i=0\n",
        "with open(fast_embed) as file:\n",
        "        for line in file:\n",
        "          if(i==0):\n",
        "            i=1\n",
        "            continue\n",
        "\n",
        "          vector=line.strip().split()\n",
        "          x=vector[0]\n",
        "          if(x in vocab):\n",
        "            fast_vectors[x]=vector[1:]\n"
      ],
      "metadata": {
        "id": "j9LR-AW6hoaR"
      },
      "execution_count": null,
      "outputs": []
    },
    {
      "cell_type": "code",
      "source": [
        "import numpy as np\n",
        "fasttext_dim=len(fast_vectors['.'])\n",
        "fasttext_embedd=np.zeros((vocab_len, fasttext_dim), dtype=np.float32)\n",
        "\n",
        "t=0\n",
        "for ind, word in enumerate(vocab):\n",
        "  try:\n",
        "    fasttext_embedd[ind,:]=fast_vectors[word]\n",
        "    t=t+1\n",
        "  except:\n",
        "    continue\n",
        "\n",
        "print(t)\n",
        "print(vocab_len)\n",
        "fasttext_embedd = torch.from_numpy(fasttext_embedd)"
      ],
      "metadata": {
        "id": "1N1hAu3bMNqJ",
        "colab": {
          "base_uri": "https://localhost:8080/"
        },
        "outputId": "e843ecb6-52b9-4e5a-f3cf-b1f2f2f0cc35"
      },
      "execution_count": null,
      "outputs": [
        {
          "output_type": "stream",
          "name": "stdout",
          "text": [
            "3420\n",
            "3495\n"
          ]
        }
      ]
    },
    {
      "cell_type": "code",
      "source": [
        "model = BiLSTM_CRF(len(word_to_ix), tag_to_ix, fasttext_dim, 256,fasttext_embedd)\n",
        "\n",
        "optimizer = optim.SGD(model.parameters(), lr=0.01, weight_decay=1e-4)\n",
        "\n",
        "\n",
        "\n",
        "\n",
        "\n",
        "fasttext_traned_model,losses_fasttext,losses_val,f1score_traning,f1score_val=train_model(model,optimizer,data,valid_data,100)"
      ],
      "metadata": {
        "colab": {
          "base_uri": "https://localhost:8080/"
        },
        "id": "oqzp-GRorXAo",
        "outputId": "c2254fef-9f13-4a06-dfa6-56b823c93b39"
      },
      "execution_count": null,
      "outputs": [
        {
          "output_type": "stream",
          "name": "stdout",
          "text": [
            "done epoch 0\n",
            "done epoch 1\n",
            "done epoch 2\n",
            "done epoch 3\n",
            "done epoch 4\n",
            "done epoch 5\n",
            "done epoch 6\n",
            "done epoch 7\n",
            "done epoch 8\n",
            "done epoch 9\n",
            "done epoch 10\n",
            "done epoch 11\n",
            "done epoch 12\n",
            "done epoch 13\n",
            "done epoch 14\n",
            "done epoch 15\n",
            "done epoch 16\n",
            "done epoch 17\n",
            "done epoch 18\n",
            "done epoch 19\n",
            "done epoch 20\n",
            "done epoch 21\n",
            "done epoch 22\n",
            "done epoch 23\n",
            "done epoch 24\n",
            "done epoch 25\n",
            "done epoch 26\n",
            "done epoch 27\n",
            "done epoch 28\n",
            "done epoch 29\n",
            "done epoch 30\n",
            "done epoch 31\n",
            "done epoch 32\n",
            "done epoch 33\n",
            "done epoch 34\n",
            "done epoch 35\n",
            "done epoch 36\n",
            "done epoch 37\n",
            "done epoch 38\n",
            "done epoch 39\n",
            "done epoch 40\n",
            "done epoch 41\n",
            "done epoch 42\n",
            "done epoch 43\n",
            "done epoch 44\n",
            "done epoch 45\n",
            "done epoch 46\n",
            "done epoch 47\n",
            "done epoch 48\n",
            "done epoch 49\n",
            "done epoch 50\n",
            "done epoch 51\n",
            "done epoch 52\n",
            "done epoch 53\n",
            "done epoch 54\n",
            "done epoch 55\n",
            "done epoch 56\n",
            "done epoch 57\n",
            "done epoch 58\n",
            "done epoch 59\n",
            "done epoch 60\n",
            "done epoch 61\n",
            "done epoch 62\n",
            "done epoch 63\n",
            "done epoch 64\n",
            "done epoch 65\n",
            "done epoch 66\n",
            "done epoch 67\n",
            "done epoch 68\n",
            "done epoch 69\n",
            "done epoch 70\n",
            "done epoch 71\n",
            "done epoch 72\n",
            "done epoch 73\n",
            "done epoch 74\n",
            "done epoch 75\n",
            "done epoch 76\n",
            "done epoch 77\n",
            "done epoch 78\n",
            "done epoch 79\n",
            "done epoch 80\n",
            "done epoch 81\n",
            "done epoch 82\n",
            "done epoch 83\n",
            "done epoch 84\n",
            "done epoch 85\n",
            "done epoch 86\n",
            "done epoch 87\n",
            "done epoch 88\n",
            "done epoch 89\n",
            "done epoch 90\n",
            "done epoch 91\n",
            "done epoch 92\n",
            "done epoch 93\n",
            "done epoch 94\n",
            "done epoch 95\n",
            "done epoch 96\n",
            "done epoch 97\n",
            "done epoch 98\n",
            "done epoch 99\n"
          ]
        }
      ]
    },
    {
      "cell_type": "markdown",
      "source": [
        "**Traning graph**"
      ],
      "metadata": {
        "id": "lPzZDupqsRG7"
      }
    },
    {
      "cell_type": "code",
      "source": [
        "plotloss(losses_fasttext)"
      ],
      "metadata": {
        "colab": {
          "base_uri": "https://localhost:8080/"
        },
        "id": "RR_uDbcOrW-E",
        "outputId": "4d9138ed-fbac-47dd-b903-893528ee12d1"
      },
      "execution_count": null,
      "outputs": [
        {
          "output_type": "display_data",
          "data": {
            "text/plain": [
              "<Figure size 640x480 with 1 Axes>"
            ],
            "image/png": "[encoded data removed]"
          },
          "metadata": {}
        }
      ]
    },
    {
      "cell_type": "markdown",
      "source": [
        "**Traning score**"
      ],
      "metadata": {
        "id": "jJaGuTPKsRED"
      }
    },
    {
      "cell_type": "code",
      "source": [
        "score=test_model(fasttext_traned_model,data)\n",
        "print(\"F1-score for traning data \",score)"
      ],
      "metadata": {
        "colab": {
          "base_uri": "https://localhost:8080/"
        },
        "id": "kQmZBS6SrW4G",
        "outputId": "5ceba452-0fad-4f72-9a67-9ed0b676d1b0"
      },
      "execution_count": null,
      "outputs": [
        {
          "output_type": "stream",
          "name": "stdout",
          "text": [
            "F1-score for traning data  0.9082992496382939\n"
          ]
        }
      ]
    },
    {
      "cell_type": "code",
      "source": [
        "plotloss(f1score_traning)"
      ],
      "metadata": {
        "id": "5yfd7iYfesFa"
      },
      "execution_count": null,
      "outputs": []
    },
    {
      "cell_type": "markdown",
      "source": [
        "**validation**"
      ],
      "metadata": {
        "id": "qluQOZTCsRAZ"
      }
    },
    {
      "cell_type": "code",
      "source": [
        "plotloss(f1score_val)"
      ],
      "metadata": {
        "id": "A8_BmMPles8u"
      },
      "execution_count": null,
      "outputs": []
    },
    {
      "cell_type": "markdown",
      "source": [
        "**validation graph**"
      ],
      "metadata": {
        "id": "Sm32x7B8sQ8q"
      }
    },
    {
      "cell_type": "code",
      "source": [
        "plotloss(losses_val)"
      ],
      "metadata": {
        "colab": {
          "base_uri": "https://localhost:8080/"
        },
        "id": "GML6SjJYrWwE",
        "outputId": "200b0185-aa52-48ab-f63f-bc4c472809d8"
      },
      "execution_count": null,
      "outputs": [
        {
          "output_type": "display_data",
          "data": {
            "text/plain": [
              "<Figure size 640x480 with 1 Axes>"
            ],
            "image/png": "[encoded data removed]"
          },
          "metadata": {}
        }
      ]
    },
    {
      "cell_type": "markdown",
      "source": [
        "**validation score**"
      ],
      "metadata": {
        "id": "KInmqxwHsQ4h"
      }
    },
    {
      "cell_type": "code",
      "source": [
        "score=test_model(fasttext_traned_model,valid_data)\n",
        "print(\"F1-score for traning data \",score)"
      ],
      "metadata": {
        "colab": {
          "base_uri": "https://localhost:8080/"
        },
        "id": "7hCHv0nvrWsk",
        "outputId": "ad28da6b-fda9-4eb8-94c6-df7ee518e536"
      },
      "execution_count": null,
      "outputs": [
        {
          "output_type": "stream",
          "name": "stdout",
          "text": [
            "F1-score for traning data  0.9553236008061727\n"
          ]
        }
      ]
    },
    {
      "cell_type": "markdown",
      "source": [
        "**save model**"
      ],
      "metadata": {
        "id": "gTF0mZjOsQyy"
      }
    },
    {
      "cell_type": "code",
      "source": [
        "fasttextpath='/content/drive/MyDrive/NLP_ass2/fasttext.pth'\n",
        "torch.save(fasttext_traned_model.state_dict(), fasttextpath)"
      ],
      "metadata": {
        "id": "lRQErhsws0AL"
      },
      "execution_count": null,
      "outputs": []
    },
    {
      "cell_type": "markdown",
      "source": [
        "**Testing score**"
      ],
      "metadata": {
        "id": "sqr999kCsk2A"
      }
    },
    {
      "cell_type": "code",
      "source": [
        "fasttextmidel = torch.load(fasttextpath)\n",
        "\n",
        "last_model = BiLSTM_CRF(len(word_to_ix), tag_to_ix, fasttext_dim, 256,fasttext_embedd)\n",
        "last_model.load_state_dict(fasttextmidel)\n",
        "\n",
        "score=test_model(last_model,test_data)\n",
        "print(\"F1-score for traning data \",score)"
      ],
      "metadata": {
        "colab": {
          "base_uri": "https://localhost:8080/"
        },
        "id": "-lfekYYVs04Q",
        "outputId": "990e530a-3133-4991-a5b7-ffdfdddf9455"
      },
      "execution_count": null,
      "outputs": [
        {
          "output_type": "stream",
          "name": "stdout",
          "text": [
            "F1-score for traning data  0.767514100168754\n"
          ]
        }
      ]
    },
    {
      "cell_type": "markdown",
      "source": [
        "#glove"
      ],
      "metadata": {
        "id": "8ZLgWW5WmiIK"
      }
    },
    {
      "cell_type": "code",
      "source": [
        "glove_embed=\"/content/drive/MyDrive/NLP_ass2/crawl-300d-2M-subword.vec\""
      ],
      "metadata": {
        "id": "8BPbc7YyMNjy"
      },
      "execution_count": null,
      "outputs": []
    },
    {
      "cell_type": "code",
      "source": [
        "glove_vectors={}\n",
        "i=0\n",
        "with open(glove_embed) as file:\n",
        "        for line in file:\n",
        "          if(i==0):\n",
        "            i=1\n",
        "            continue\n",
        "\n",
        "          vector=line.strip().split()\n",
        "          x=vector[0]\n",
        "          if(x in vocab):\n",
        "            glove_vectors[x]=vector[1:]"
      ],
      "metadata": {
        "id": "P1le19mSMNeJ"
      },
      "execution_count": null,
      "outputs": []
    },
    {
      "cell_type": "code",
      "source": [
        "import numpy as np\n",
        "glove_dim=len(glove_vectors['.'])\n",
        "glove_embedd=np.zeros((vocab_len, glove_dim), dtype=np.float32)\n",
        "\n",
        "t=0\n",
        "for ind, word in enumerate(vocab):\n",
        "  try:\n",
        "    glove_embedd[ind,:]=glove_vectors[word]\n",
        "    t=t+1\n",
        "  except:\n",
        "    continue\n",
        "\n",
        "print(t)\n",
        "print(vocab_len)\n",
        "glove_embedd = torch.from_numpy(glove_embedd)"
      ],
      "metadata": {
        "id": "OpthrP96MNT7",
        "colab": {
          "base_uri": "https://localhost:8080/"
        },
        "outputId": "9e851ab1-3181-45f3-af4e-945b4026a2d1"
      },
      "execution_count": null,
      "outputs": [
        {
          "output_type": "stream",
          "name": "stdout",
          "text": [
            "3420\n",
            "3495\n"
          ]
        }
      ]
    },
    {
      "cell_type": "code",
      "source": [
        "model = BiLSTM_CRF(len(word_to_ix), tag_to_ix, glove_dim, 256,glove_embedd)\n",
        "\n",
        "optimizer = optim.SGD(model.parameters(), lr=0.01, weight_decay=1e-4)\n",
        "\n",
        "\n",
        "\n",
        "\n",
        "\n",
        "glove_traned_model,losses_glove,losses_val,f1score_traning,f1score_val=train_model(model,optimizer,data,valid_data,100)"
      ],
      "metadata": {
        "id": "9UDhf7SMMNE5",
        "colab": {
          "base_uri": "https://localhost:8080/"
        },
        "outputId": "340208fb-1da3-4ec8-a884-46d94474751d"
      },
      "execution_count": null,
      "outputs": [
        {
          "output_type": "stream",
          "name": "stdout",
          "text": [
            "done epoch 0\n",
            "done epoch 1\n",
            "done epoch 2\n",
            "done epoch 3\n",
            "done epoch 4\n",
            "done epoch 5\n",
            "done epoch 6\n",
            "done epoch 7\n",
            "done epoch 8\n",
            "done epoch 9\n",
            "done epoch 10\n",
            "done epoch 11\n",
            "done epoch 12\n",
            "done epoch 13\n",
            "done epoch 14\n",
            "done epoch 15\n",
            "done epoch 16\n",
            "done epoch 17\n",
            "done epoch 18\n",
            "done epoch 19\n",
            "done epoch 20\n",
            "done epoch 21\n",
            "done epoch 22\n",
            "done epoch 23\n",
            "done epoch 24\n",
            "done epoch 25\n",
            "done epoch 26\n",
            "done epoch 27\n",
            "done epoch 28\n",
            "done epoch 29\n",
            "done epoch 30\n",
            "done epoch 31\n",
            "done epoch 32\n",
            "done epoch 33\n",
            "done epoch 34\n",
            "done epoch 35\n",
            "done epoch 36\n",
            "done epoch 37\n",
            "done epoch 38\n",
            "done epoch 39\n",
            "done epoch 40\n",
            "done epoch 41\n",
            "done epoch 42\n",
            "done epoch 43\n",
            "done epoch 44\n",
            "done epoch 45\n",
            "done epoch 46\n",
            "done epoch 47\n",
            "done epoch 48\n",
            "done epoch 49\n",
            "done epoch 50\n",
            "done epoch 51\n",
            "done epoch 52\n",
            "done epoch 53\n",
            "done epoch 54\n",
            "done epoch 55\n",
            "done epoch 56\n",
            "done epoch 57\n",
            "done epoch 58\n",
            "done epoch 59\n",
            "done epoch 60\n",
            "done epoch 61\n",
            "done epoch 62\n",
            "done epoch 63\n",
            "done epoch 64\n",
            "done epoch 65\n",
            "done epoch 66\n",
            "done epoch 67\n",
            "done epoch 68\n",
            "done epoch 69\n",
            "done epoch 70\n",
            "done epoch 71\n",
            "done epoch 72\n",
            "done epoch 73\n",
            "done epoch 74\n",
            "done epoch 75\n",
            "done epoch 76\n",
            "done epoch 77\n",
            "done epoch 78\n",
            "done epoch 79\n",
            "done epoch 80\n",
            "done epoch 81\n",
            "done epoch 82\n",
            "done epoch 83\n",
            "done epoch 84\n",
            "done epoch 85\n",
            "done epoch 86\n",
            "done epoch 87\n",
            "done epoch 88\n",
            "done epoch 89\n",
            "done epoch 90\n",
            "done epoch 91\n",
            "done epoch 92\n",
            "done epoch 93\n",
            "done epoch 94\n",
            "done epoch 95\n",
            "done epoch 96\n",
            "done epoch 97\n",
            "done epoch 98\n",
            "done epoch 99\n"
          ]
        }
      ]
    },
    {
      "cell_type": "markdown",
      "source": [
        "**traning graph**"
      ],
      "metadata": {
        "id": "_LbcQOVhs4my"
      }
    },
    {
      "cell_type": "code",
      "source": [
        "plotloss(losses_glove)"
      ],
      "metadata": {
        "colab": {
          "base_uri": "https://localhost:8080/"
        },
        "id": "HU--Lr7vuUML",
        "outputId": "3628bd3f-7d5e-4b4d-89c6-b71ad0339d2e"
      },
      "execution_count": null,
      "outputs": [
        {
          "output_type": "display_data",
          "data": {
            "text/plain": [
              "<Figure size 640x480 with 1 Axes>"
            ],
            "image/png": "[encoded data removed]"
          },
          "metadata": {}
        }
      ]
    },
    {
      "cell_type": "markdown",
      "source": [
        "**traning score**"
      ],
      "metadata": {
        "id": "vR9hZkOZs4kP"
      }
    },
    {
      "cell_type": "code",
      "source": [
        "score=test_model(glove_traned_model,data)\n",
        "print(\"F1-score for traning data \",score)"
      ],
      "metadata": {
        "colab": {
          "base_uri": "https://localhost:8080/"
        },
        "id": "FIsx4q3nuvJk",
        "outputId": "d020cb4d-081d-4d22-faca-4735be6ba649"
      },
      "execution_count": null,
      "outputs": [
        {
          "output_type": "stream",
          "name": "stdout",
          "text": [
            "F1-score for traning data  0.9235042496512985\n"
          ]
        }
      ]
    },
    {
      "cell_type": "code",
      "source": [
        "\n",
        "plotloss(f1score_traning)"
      ],
      "metadata": {
        "id": "2u3M9VXffK9H"
      },
      "execution_count": null,
      "outputs": []
    },
    {
      "cell_type": "markdown",
      "source": [
        "**validation**"
      ],
      "metadata": {
        "id": "SxrkLisBs4hX"
      }
    },
    {
      "cell_type": "markdown",
      "source": [
        "**validation graph**"
      ],
      "metadata": {
        "id": "o2BCeYWis4eH"
      }
    },
    {
      "cell_type": "code",
      "source": [
        "plotloss(f1score_val)"
      ],
      "metadata": {
        "id": "zQB63wtbfisw"
      },
      "execution_count": null,
      "outputs": []
    },
    {
      "cell_type": "code",
      "source": [
        "plotloss(losses_val)"
      ],
      "metadata": {
        "colab": {
          "base_uri": "https://localhost:8080/"
        },
        "id": "v1FqhTjkuw9s",
        "outputId": "acb03eeb-1cd4-4eac-9109-548e150a63bd"
      },
      "execution_count": null,
      "outputs": [
        {
          "output_type": "display_data",
          "data": {
            "text/plain": [
              "<Figure size 640x480 with 1 Axes>"
            ],
            "image/png": "[encoded data removed]"
          },
          "metadata": {}
        }
      ]
    },
    {
      "cell_type": "markdown",
      "source": [
        "**validation score**"
      ],
      "metadata": {
        "id": "tRZgTVAus4af"
      }
    },
    {
      "cell_type": "code",
      "source": [
        "score=test_model(glove_traned_model,valid_data)\n",
        "print(\"F1-score for traning data \",score)"
      ],
      "metadata": {
        "colab": {
          "base_uri": "https://localhost:8080/"
        },
        "id": "uEQh7bMXux0T",
        "outputId": "2789ea56-4df8-409e-b6c4-a53ae7514c96"
      },
      "execution_count": null,
      "outputs": [
        {
          "output_type": "stream",
          "name": "stdout",
          "text": [
            "F1-score for traning data  0.9539371099058047\n"
          ]
        }
      ]
    },
    {
      "cell_type": "markdown",
      "source": [
        "**model saving**"
      ],
      "metadata": {
        "id": "kHFCxcDBs4WH"
      }
    },
    {
      "cell_type": "code",
      "source": [
        "glovepath='/content/drive/MyDrive/NLP_ass2/glovepath.pth'\n",
        "torch.save(glove_traned_model.state_dict(), glovepath)"
      ],
      "metadata": {
        "id": "ambfqOAVuyNH"
      },
      "execution_count": null,
      "outputs": []
    },
    {
      "cell_type": "markdown",
      "source": [
        "**testing score**"
      ],
      "metadata": {
        "id": "6nPPV51Zs4JP"
      }
    },
    {
      "cell_type": "code",
      "source": [
        "glovevmodel = torch.load(glovepath)\n",
        "\n",
        "last_model =  BiLSTM_CRF(len(word_to_ix), tag_to_ix, glove_dim, 256,glove_embedd)\n",
        "last_model.load_state_dict(glovevmodel)\n",
        "\n",
        "score=test_model(last_model,test_data)\n",
        "print(\"F1-score for traning data \",score)"
      ],
      "metadata": {
        "colab": {
          "base_uri": "https://localhost:8080/"
        },
        "id": "1WVkutXXtMjb",
        "outputId": "c37c4713-b4b7-4ab2-e1c2-2a08d0de9384"
      },
      "execution_count": null,
      "outputs": [
        {
          "output_type": "stream",
          "name": "stdout",
          "text": [
            "F1-score for traning data  0.7858036926246945\n"
          ]
        }
      ]
    }
  ]
}